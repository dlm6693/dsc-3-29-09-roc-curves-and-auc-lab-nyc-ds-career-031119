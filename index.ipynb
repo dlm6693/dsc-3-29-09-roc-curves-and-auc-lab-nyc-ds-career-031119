{
 "cells": [
  {
   "cell_type": "markdown",
   "metadata": {},
   "source": [
    "# ROC Curves and AUC - Lab\n",
    "\n",
    "\n",
    "## Introduction \n",
    "\n",
    "In this lab, we'll practice drawing ROC graphs, calculating AUC, and interpreting these results. In doing so, we will also further review logistic regression, by briefly fitting a model as in a standard data science pipeline.\n",
    "\n",
    "## Objectives\n",
    "\n",
    "You will be able to:\n",
    "\n",
    "* Evaluate classification models using various metrics\n",
    "* Define and understand ROC and AUC"
   ]
  },
  {
   "cell_type": "markdown",
   "metadata": {},
   "source": [
    "## Training the Model\n",
    "\n",
    "Start by repeating the previous modelling steps we have discussed. For this problem, you are given a dataset **mushrooms.csv**. You're first job is to train a LogisticRegression classifier on the dataset to determine whether the mushroom is **e**dible or **p**oisonous. The first column of the dataset *class* indicates whether or not the mushroom is poisonous or edible.\n",
    "\n",
    "** For consistency use random_state=0**"
   ]
  },
  {
   "cell_type": "code",
   "execution_count": 10,
   "metadata": {},
   "outputs": [
    {
     "data": {
      "text/html": [
       "<div>\n",
       "<style scoped>\n",
       "    .dataframe tbody tr th:only-of-type {\n",
       "        vertical-align: middle;\n",
       "    }\n",
       "\n",
       "    .dataframe tbody tr th {\n",
       "        vertical-align: top;\n",
       "    }\n",
       "\n",
       "    .dataframe thead th {\n",
       "        text-align: right;\n",
       "    }\n",
       "</style>\n",
       "<table border=\"1\" class=\"dataframe\">\n",
       "  <thead>\n",
       "    <tr style=\"text-align: right;\">\n",
       "      <th></th>\n",
       "      <th>class</th>\n",
       "      <th>cap-shape</th>\n",
       "      <th>cap-surface</th>\n",
       "      <th>cap-color</th>\n",
       "      <th>bruises</th>\n",
       "      <th>odor</th>\n",
       "      <th>gill-attachment</th>\n",
       "      <th>gill-spacing</th>\n",
       "      <th>gill-size</th>\n",
       "      <th>gill-color</th>\n",
       "      <th>...</th>\n",
       "      <th>stalk-surface-below-ring</th>\n",
       "      <th>stalk-color-above-ring</th>\n",
       "      <th>stalk-color-below-ring</th>\n",
       "      <th>veil-type</th>\n",
       "      <th>veil-color</th>\n",
       "      <th>ring-number</th>\n",
       "      <th>ring-type</th>\n",
       "      <th>spore-print-color</th>\n",
       "      <th>population</th>\n",
       "      <th>habitat</th>\n",
       "    </tr>\n",
       "  </thead>\n",
       "  <tbody>\n",
       "    <tr>\n",
       "      <th>0</th>\n",
       "      <td>p</td>\n",
       "      <td>x</td>\n",
       "      <td>s</td>\n",
       "      <td>n</td>\n",
       "      <td>t</td>\n",
       "      <td>p</td>\n",
       "      <td>f</td>\n",
       "      <td>c</td>\n",
       "      <td>n</td>\n",
       "      <td>k</td>\n",
       "      <td>...</td>\n",
       "      <td>s</td>\n",
       "      <td>w</td>\n",
       "      <td>w</td>\n",
       "      <td>p</td>\n",
       "      <td>w</td>\n",
       "      <td>o</td>\n",
       "      <td>p</td>\n",
       "      <td>k</td>\n",
       "      <td>s</td>\n",
       "      <td>u</td>\n",
       "    </tr>\n",
       "    <tr>\n",
       "      <th>1</th>\n",
       "      <td>e</td>\n",
       "      <td>x</td>\n",
       "      <td>s</td>\n",
       "      <td>y</td>\n",
       "      <td>t</td>\n",
       "      <td>a</td>\n",
       "      <td>f</td>\n",
       "      <td>c</td>\n",
       "      <td>b</td>\n",
       "      <td>k</td>\n",
       "      <td>...</td>\n",
       "      <td>s</td>\n",
       "      <td>w</td>\n",
       "      <td>w</td>\n",
       "      <td>p</td>\n",
       "      <td>w</td>\n",
       "      <td>o</td>\n",
       "      <td>p</td>\n",
       "      <td>n</td>\n",
       "      <td>n</td>\n",
       "      <td>g</td>\n",
       "    </tr>\n",
       "    <tr>\n",
       "      <th>2</th>\n",
       "      <td>e</td>\n",
       "      <td>b</td>\n",
       "      <td>s</td>\n",
       "      <td>w</td>\n",
       "      <td>t</td>\n",
       "      <td>l</td>\n",
       "      <td>f</td>\n",
       "      <td>c</td>\n",
       "      <td>b</td>\n",
       "      <td>n</td>\n",
       "      <td>...</td>\n",
       "      <td>s</td>\n",
       "      <td>w</td>\n",
       "      <td>w</td>\n",
       "      <td>p</td>\n",
       "      <td>w</td>\n",
       "      <td>o</td>\n",
       "      <td>p</td>\n",
       "      <td>n</td>\n",
       "      <td>n</td>\n",
       "      <td>m</td>\n",
       "    </tr>\n",
       "    <tr>\n",
       "      <th>3</th>\n",
       "      <td>p</td>\n",
       "      <td>x</td>\n",
       "      <td>y</td>\n",
       "      <td>w</td>\n",
       "      <td>t</td>\n",
       "      <td>p</td>\n",
       "      <td>f</td>\n",
       "      <td>c</td>\n",
       "      <td>n</td>\n",
       "      <td>n</td>\n",
       "      <td>...</td>\n",
       "      <td>s</td>\n",
       "      <td>w</td>\n",
       "      <td>w</td>\n",
       "      <td>p</td>\n",
       "      <td>w</td>\n",
       "      <td>o</td>\n",
       "      <td>p</td>\n",
       "      <td>k</td>\n",
       "      <td>s</td>\n",
       "      <td>u</td>\n",
       "    </tr>\n",
       "    <tr>\n",
       "      <th>4</th>\n",
       "      <td>e</td>\n",
       "      <td>x</td>\n",
       "      <td>s</td>\n",
       "      <td>g</td>\n",
       "      <td>f</td>\n",
       "      <td>n</td>\n",
       "      <td>f</td>\n",
       "      <td>w</td>\n",
       "      <td>b</td>\n",
       "      <td>k</td>\n",
       "      <td>...</td>\n",
       "      <td>s</td>\n",
       "      <td>w</td>\n",
       "      <td>w</td>\n",
       "      <td>p</td>\n",
       "      <td>w</td>\n",
       "      <td>o</td>\n",
       "      <td>e</td>\n",
       "      <td>n</td>\n",
       "      <td>a</td>\n",
       "      <td>g</td>\n",
       "    </tr>\n",
       "  </tbody>\n",
       "</table>\n",
       "<p>5 rows × 23 columns</p>\n",
       "</div>"
      ],
      "text/plain": [
       "  class cap-shape cap-surface cap-color bruises odor gill-attachment  \\\n",
       "0     p         x           s         n       t    p               f   \n",
       "1     e         x           s         y       t    a               f   \n",
       "2     e         b           s         w       t    l               f   \n",
       "3     p         x           y         w       t    p               f   \n",
       "4     e         x           s         g       f    n               f   \n",
       "\n",
       "  gill-spacing gill-size gill-color   ...   stalk-surface-below-ring  \\\n",
       "0            c         n          k   ...                          s   \n",
       "1            c         b          k   ...                          s   \n",
       "2            c         b          n   ...                          s   \n",
       "3            c         n          n   ...                          s   \n",
       "4            w         b          k   ...                          s   \n",
       "\n",
       "  stalk-color-above-ring stalk-color-below-ring veil-type veil-color  \\\n",
       "0                      w                      w         p          w   \n",
       "1                      w                      w         p          w   \n",
       "2                      w                      w         p          w   \n",
       "3                      w                      w         p          w   \n",
       "4                      w                      w         p          w   \n",
       "\n",
       "  ring-number ring-type spore-print-color population habitat  \n",
       "0           o         p                 k          s       u  \n",
       "1           o         p                 n          n       g  \n",
       "2           o         p                 n          n       m  \n",
       "3           o         p                 k          s       u  \n",
       "4           o         e                 n          a       g  \n",
       "\n",
       "[5 rows x 23 columns]"
      ]
     },
     "execution_count": 10,
     "metadata": {},
     "output_type": "execute_result"
    }
   ],
   "source": [
    "#Your code here\n",
    "import pandas as pd\n",
    "from sklearn.linear_model import LogisticRegression as lr\n",
    "from sklearn.model_selection import train_test_split as tts\n",
    "df = pd.read_csv('mushrooms.csv')\n",
    "df.head()\n",
    "y = df['class']\n",
    "x = df[df.columns[:-1]]\n",
    "df.head()"
   ]
  },
  {
   "cell_type": "code",
   "execution_count": 30,
   "metadata": {},
   "outputs": [
    {
     "name": "stderr",
     "output_type": "stream",
     "text": [
      "/opt/conda/envs/learn-env/lib/python3.6/site-packages/sklearn/linear_model/logistic.py:433: FutureWarning: Default solver will be changed to 'lbfgs' in 0.22. Specify a solver to silence this warning.\n",
      "  FutureWarning)\n"
     ]
    },
    {
     "data": {
      "text/plain": [
       "LogisticRegression(C=1000000000000.0, class_weight=None, dual=False,\n",
       "          fit_intercept=False, intercept_scaling=1, max_iter=100,\n",
       "          multi_class='warn', n_jobs=None, penalty='l2', random_state=None,\n",
       "          solver='warn', tol=0.0001, verbose=0, warm_start=False)"
      ]
     },
     "execution_count": 30,
     "metadata": {},
     "output_type": "execute_result"
    }
   ],
   "source": [
    "x = pd.get_dummies(x)\n",
    "x_train, x_test, y_train, y_test = tts(x,y, random_state=0)\n",
    "reg = lr(fit_intercept=False, C=1e12)\n",
    "model = reg.fit(x_train, y_train)\n",
    "model"
   ]
  },
  {
   "cell_type": "code",
   "execution_count": 31,
   "metadata": {},
   "outputs": [],
   "source": [
    "y_hat_test = reg.predict(x_test)"
   ]
  },
  {
   "cell_type": "markdown",
   "metadata": {},
   "source": [
    "## ROC Metrics\n",
    "  \n",
    "Next, calculate the false positive rate and true positive rate (you can use the built in metrics from SciKit-Learn) of your classifier."
   ]
  },
  {
   "cell_type": "code",
   "execution_count": 35,
   "metadata": {},
   "outputs": [
    {
     "data": {
      "text/plain": [
       "array([0.        , 0.00206186, 0.00309278, 0.00515464, 0.00824742,\n",
       "       0.01134021, 0.01340206, 0.01443299, 0.0185567 , 0.01958763,\n",
       "       0.02164948, 0.04226804, 0.0443299 , 0.04742268, 0.04948454,\n",
       "       0.05051546, 0.05257732, 0.0556701 , 0.05773196, 0.0628866 ,\n",
       "       0.06701031, 0.07010309, 0.07319588, 0.07835052, 0.08041237,\n",
       "       0.08350515, 0.08556701, 0.08659794, 0.09072165, 0.09175258,\n",
       "       0.09381443, 0.10309278, 0.10515464, 0.11134021, 0.11340206,\n",
       "       0.11752577, 0.11958763, 0.13195876, 0.13402062, 0.13814433,\n",
       "       0.1443299 , 0.14639175, 0.14845361, 0.1556701 , 0.15773196,\n",
       "       0.16185567, 0.16391753, 0.1742268 , 0.17628866, 0.18865979,\n",
       "       0.19072165, 0.19381443, 0.19587629, 0.19896907, 0.20103093,\n",
       "       0.20206186, 0.20618557, 0.20824742, 0.21030928, 0.21443299,\n",
       "       0.21649485, 0.22061856, 0.22371134, 0.22783505, 0.22886598,\n",
       "       0.23092784, 0.23195876, 0.23402062, 0.23814433, 0.24020619,\n",
       "       0.24226804, 0.24536082, 0.24948454, 0.25154639, 0.25670103,\n",
       "       0.25876289, 0.26597938, 0.26804124, 0.27835052, 0.28041237,\n",
       "       0.28350515, 0.28762887, 0.29072165, 0.29278351, 0.29587629,\n",
       "       0.29896907, 0.3       , 0.30206186, 0.30309278, 0.30515464,\n",
       "       0.30721649, 0.30927835, 0.32061856, 0.32474227, 0.3257732 ,\n",
       "       0.33195876, 0.33505155, 0.33608247, 0.34020619, 0.34123711,\n",
       "       0.34329897, 0.3443299 , 0.35051546, 0.35257732, 0.35876289,\n",
       "       0.35979381, 0.36391753, 0.36907216, 0.37319588, 0.37835052,\n",
       "       0.3814433 , 0.38247423, 0.38453608, 0.38659794, 0.38865979,\n",
       "       0.38969072, 0.39175258, 0.39381443, 0.39587629, 0.4       ,\n",
       "       0.40309278, 0.40721649, 0.40927835, 0.41030928, 0.41237113,\n",
       "       0.41340206, 0.41546392, 0.41958763, 0.42371134, 0.42474227,\n",
       "       0.43092784, 0.43195876, 0.43402062, 0.44226804, 0.4443299 ,\n",
       "       0.44536082, 0.44742268, 0.45051546, 0.45257732, 0.4556701 ,\n",
       "       0.45773196, 0.45979381, 0.46185567, 0.46701031, 0.46907216,\n",
       "       0.47216495, 0.4742268 , 0.47628866, 0.4814433 , 0.48350515,\n",
       "       0.48453608, 0.48659794, 0.48865979, 0.49072165, 0.50618557,\n",
       "       0.50824742, 0.51237113, 0.51443299, 0.51649485, 0.5185567 ,\n",
       "       0.53505155, 0.5371134 , 0.54020619, 0.54329897, 0.55463918,\n",
       "       0.55876289, 0.56494845, 0.56701031, 0.57319588, 0.57731959,\n",
       "       0.57835052, 0.58041237, 0.58865979, 0.59072165, 0.6       ,\n",
       "       0.60206186, 0.60824742, 0.61030928, 0.61443299, 0.61649485,\n",
       "       0.61752577, 0.61958763, 0.62164948, 0.6257732 , 0.62886598,\n",
       "       0.63092784, 0.63298969, 0.63505155, 0.6371134 , 0.63917526,\n",
       "       0.6443299 , 0.64639175, 0.64948454, 0.65257732, 0.65876289,\n",
       "       0.66082474, 0.67113402, 0.67319588, 0.67628866, 0.68041237,\n",
       "       0.68350515, 0.70515464, 0.70721649, 0.71237113, 0.71443299,\n",
       "       0.72474227, 0.72680412, 0.74845361, 0.75051546, 0.75360825,\n",
       "       0.75773196, 0.7628866 , 0.76494845, 0.76804124, 0.77010309,\n",
       "       0.77938144, 0.78247423, 0.78762887, 0.79175258, 0.79278351,\n",
       "       0.79484536, 0.79793814, 0.8       , 0.80206186, 0.80412371,\n",
       "       0.80824742, 0.81030928, 0.81340206, 0.81546392, 0.82371134,\n",
       "       0.82680412, 0.83092784, 0.83298969, 0.83505155, 0.8371134 ,\n",
       "       0.83917526, 0.84329897, 0.84742268, 0.85773196, 0.85979381,\n",
       "       0.86082474, 0.8628866 , 0.87010309, 0.87216495, 0.87319588,\n",
       "       0.87628866, 0.88247423, 0.88659794, 0.89896907, 0.90103093,\n",
       "       0.90515464, 0.91134021, 0.92783505, 0.92989691, 0.93917526,\n",
       "       0.94123711, 1.        , 1.        , 1.        , 1.        ,\n",
       "       1.        , 1.        , 1.        , 1.        , 1.        ,\n",
       "       1.        , 1.        , 1.        , 1.        , 1.        ,\n",
       "       1.        , 1.        , 1.        , 1.        , 1.        ,\n",
       "       1.        , 1.        , 1.        , 1.        , 1.        ,\n",
       "       1.        , 1.        , 1.        , 1.        , 1.        ,\n",
       "       1.        , 1.        , 1.        , 1.        , 1.        ,\n",
       "       1.        , 1.        , 1.        , 1.        , 1.        ,\n",
       "       1.        , 1.        , 1.        , 1.        , 1.        ])"
      ]
     },
     "execution_count": 35,
     "metadata": {},
     "output_type": "execute_result"
    }
   ],
   "source": [
    "from sklearn.metrics import roc_curve, auc\n",
    "y_score = model.decision_function(x_test)\n",
    "fpr,tpr,thresholds = roc_curve(y_test, y_score, pos_label='p')\n",
    "y_train_score = model.decision_function(x_train)\n",
    "train_fpr, train_tpr, train_thresolds = roc_curve(y_train, y_train_score, pos_label='p')\n",
    "tpr"
   ]
  },
  {
   "cell_type": "markdown",
   "metadata": {},
   "source": [
    "## Drawing the ROC Graph\n",
    "\n",
    "Next, use the false positive rate and true positive rate to plot the Receiver Operating Characteristic Curve for both the train and test sets."
   ]
  },
  {
   "cell_type": "code",
   "execution_count": null,
   "metadata": {},
   "outputs": [],
   "source": [
    "# Your code here"
   ]
  },
  {
   "cell_type": "markdown",
   "metadata": {},
   "source": [
    "## Interpretation:\n",
    "\n",
    "What do you notice about these ROC curves?"
   ]
  },
  {
   "cell_type": "markdown",
   "metadata": {},
   "source": [
    "## Your answer here"
   ]
  },
  {
   "cell_type": "markdown",
   "metadata": {},
   "source": [
    "## Interpretation\n",
    "Look at the ROC curve graph from the lesson:  \n",
    "\n",
    "<img src=\"images/lesson_roc_graph.png\">\n",
    "\n",
    "Think about the scenario of this model: predicting heart disease. If you tune the current model to have and 82% True Positive Rate, (you've still missed 20% of those with heart disease), what is the False positive rate?"
   ]
  },
  {
   "cell_type": "code",
   "execution_count": null,
   "metadata": {},
   "outputs": [],
   "source": [
    "fpr = #write the approximate fpr when tpr=.8"
   ]
  },
  {
   "cell_type": "markdown",
   "metadata": {},
   "source": [
    "## Interpretation 2\n",
    "If you instead tune the model to have a 95.2% True Postive Rate, what will the False Postive Rate be?"
   ]
  },
  {
   "cell_type": "code",
   "execution_count": null,
   "metadata": {},
   "outputs": [],
   "source": [
    "fpr = #write the approximate fpr when tpr=.95"
   ]
  },
  {
   "cell_type": "markdown",
   "metadata": {},
   "source": [
    "## Opinion\n",
    "In the case of heart disease that we've been talking about, do you find any of the above cases acceptable? How would you tune the model. Describe what this would mean in terms of the number of patients falsely scared of having heart disease and the risk of missing the warning signs for those who do actually have heart disease."
   ]
  },
  {
   "cell_type": "markdown",
   "metadata": {},
   "source": [
    "## Your answer here"
   ]
  },
  {
   "cell_type": "markdown",
   "metadata": {},
   "source": [
    "## Summary\n",
    "\n",
    "In this lesson we further explored ROC curves and AUC, drawing graphs and then interpreting these results to lead to a more detailed and contextualized understanding of our model's accuracy."
   ]
  }
 ],
 "metadata": {
  "kernelspec": {
   "display_name": "Python 3",
   "language": "python",
   "name": "python3"
  },
  "language_info": {
   "codemirror_mode": {
    "name": "ipython",
    "version": 3
   },
   "file_extension": ".py",
   "mimetype": "text/x-python",
   "name": "python",
   "nbconvert_exporter": "python",
   "pygments_lexer": "ipython3",
   "version": "3.6.6"
  }
 },
 "nbformat": 4,
 "nbformat_minor": 2
}
